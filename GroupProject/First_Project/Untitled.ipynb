{
 "cells": [
  {
   "cell_type": "code",
   "execution_count": 3,
   "metadata": {},
   "outputs": [],
   "source": [
    "import pandas as pd\n",
    "from inspect import signature\n",
    "from pprint import pprint as pp\n",
    "import seaborn as sns\n",
    "import matplotlib.pyplot as plt"
   ]
  },
  {
   "cell_type": "code",
   "execution_count": 7,
   "metadata": {},
   "outputs": [],
   "source": [
    "df_jeju = pd.read_csv('../df_jeju.csv')\n",
    "df_js = pd.read_csv('../df_jejusubmission.csv')"
   ]
  },
  {
   "cell_type": "code",
   "execution_count": 14,
   "metadata": {},
   "outputs": [
    {
     "name": "stdout",
     "output_type": "stream",
     "text": [
      "   Unnamed: 0  REG_YYMM CARD_SIDO_NM CARD_CCG_NM STD_CLSS_NM HOM_SIDO_NM  \\\n",
      "0     1454855    201901           제주        서귀포시  건강보조식품 소매업          부산   \n",
      "1     1454856    201901           제주        서귀포시  건강보조식품 소매업          인천   \n",
      "2     1454857    201901           제주        서귀포시  건강보조식품 소매업          제주   \n",
      "3     1454858    201901           제주        서귀포시  건강보조식품 소매업          제주   \n",
      "4     1454859    201901           제주        서귀포시  건강보조식품 소매업          제주   \n",
      "\n",
      "  HOM_CCG_NM  AGE  SEX_CTGO_CD  FLC  CSTMR_CNT      AMT  CNT  \n",
      "0        사하구  50s            2    4          4  1900000    4  \n",
      "1         서구  50s            2    4          3  1300000    2  \n",
      "2       서귀포시  30s            1    2          3   438000    3  \n",
      "3       서귀포시  30s            2    2          4   552200    3  \n",
      "4       서귀포시  40s            1    2          3   908000    3  \n",
      "<class 'pandas.core.frame.DataFrame'>\n",
      "RangeIndex: 497503 entries, 0 to 497502\n",
      "Data columns (total 13 columns):\n",
      " #   Column        Non-Null Count   Dtype \n",
      "---  ------        --------------   ----- \n",
      " 0   Unnamed: 0    497503 non-null  int64 \n",
      " 1   REG_YYMM      497503 non-null  int64 \n",
      " 2   CARD_SIDO_NM  497503 non-null  object\n",
      " 3   CARD_CCG_NM   497503 non-null  object\n",
      " 4   STD_CLSS_NM   497503 non-null  object\n",
      " 5   HOM_SIDO_NM   497503 non-null  object\n",
      " 6   HOM_CCG_NM    494432 non-null  object\n",
      " 7   AGE           497503 non-null  object\n",
      " 8   SEX_CTGO_CD   497503 non-null  int64 \n",
      " 9   FLC           497503 non-null  int64 \n",
      " 10  CSTMR_CNT     497503 non-null  int64 \n",
      " 11  AMT           497503 non-null  int64 \n",
      " 12  CNT           497503 non-null  int64 \n",
      "dtypes: int64(7), object(6)\n",
      "memory usage: 49.3+ MB\n"
     ]
    }
   ],
   "source": [
    "pp(df_jeju.head())\n",
    "df_jeju.info()"
   ]
  },
  {
   "cell_type": "code",
   "execution_count": 12,
   "metadata": {},
   "outputs": [
    {
     "name": "stdout",
     "output_type": "stream",
     "text": [
      "   Unnamed: 0   id  REG_YYMM CARD_SIDO_NM           STD_CLSS_NM  AMT\n",
      "0         574  574    202004           제주            건강보조식품 소매업    0\n",
      "1         575  575    202004           제주               골프장 운영업    0\n",
      "2         576  576    202004           제주           과실 및 채소 소매업    0\n",
      "3         577  577    202004           제주     관광 민예품 및 선물용품 소매업    0\n",
      "4         578  578    202004           제주  그외 기타 분류안된 오락관련 서비스업    0\n",
      "<class 'pandas.core.frame.DataFrame'>\n",
      "RangeIndex: 82 entries, 0 to 81\n",
      "Data columns (total 6 columns):\n",
      " #   Column        Non-Null Count  Dtype \n",
      "---  ------        --------------  ----- \n",
      " 0   Unnamed: 0    82 non-null     int64 \n",
      " 1   id            82 non-null     int64 \n",
      " 2   REG_YYMM      82 non-null     int64 \n",
      " 3   CARD_SIDO_NM  82 non-null     object\n",
      " 4   STD_CLSS_NM   82 non-null     object\n",
      " 5   AMT           82 non-null     int64 \n",
      "dtypes: int64(4), object(2)\n",
      "memory usage: 4.0+ KB\n"
     ]
    }
   ],
   "source": [
    "pp(df_js.head())\n",
    "df_js.info()"
   ]
  },
  {
   "cell_type": "code",
   "execution_count": null,
   "metadata": {},
   "outputs": [],
   "source": []
  }
 ],
 "metadata": {
  "kernelspec": {
   "display_name": "Python 3",
   "language": "python",
   "name": "python3"
  },
  "language_info": {
   "codemirror_mode": {
    "name": "ipython",
    "version": 3
   },
   "file_extension": ".py",
   "mimetype": "text/x-python",
   "name": "python",
   "nbconvert_exporter": "python",
   "pygments_lexer": "ipython3",
   "version": "3.8.3"
  }
 },
 "nbformat": 4,
 "nbformat_minor": 4
}
