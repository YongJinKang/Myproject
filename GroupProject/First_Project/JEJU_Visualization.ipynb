{
 "cells": [
  {
   "cell_type": "code",
   "execution_count": null,
   "metadata": {},
   "outputs": [],
   "source": [
    "import seaborn as sns\n",
    "import matplotlib.pyplot as plt\n",
    "import pandas as pd\n",
    "from pprint import pprint as pp\n",
    "from inspect import signature\n",
    "from datetime import datetime\n",
    "import warnings\n",
    "warnings.filterwarnings(action = 'ignore')\n",
    "%config InlineBackend.figure_format = 'retina'\n",
    "import matplotlib.font_manager as fm\n",
    "fontpath = '/usr/share/fonts/truetype/nanum/NanumBarunGothic.ttf'\n",
    "font = fm.FontProperties(fname=fontpath, size=9)\n",
    "plt.rc('font', family='NanumBarunGothic') \n",
    "fm._rebuild()"
   ]
  },
  {
   "cell_type": "code",
   "execution_count": null,
   "metadata": {},
   "outputs": [],
   "source": [
    "plt.figure(figsize=(5,5))\n",
    "plt.plot([0,1], [0,1], label='한글테스트용')\n",
    "plt.legend()\n",
    "plt.show()"
   ]
  },
  {
   "cell_type": "markdown",
   "metadata": {},
   "source": [
    "### Data파악"
   ]
  },
  {
   "cell_type": "code",
   "execution_count": null,
   "metadata": {},
   "outputs": [],
   "source": [
    "df_jeju=pd.read_csv('./df_jeju.csv')"
   ]
  },
  {
   "cell_type": "code",
   "execution_count": null,
   "metadata": {},
   "outputs": [],
   "source": [
    "df_jeju"
   ]
  },
  {
   "cell_type": "code",
   "execution_count": null,
   "metadata": {},
   "outputs": [],
   "source": [
    "df_jeju.info()"
   ]
  },
  {
   "cell_type": "code",
   "execution_count": null,
   "metadata": {},
   "outputs": [],
   "source": [
    "df_jeju"
   ]
  },
  {
   "cell_type": "code",
   "execution_count": null,
   "metadata": {},
   "outputs": [],
   "source": [
    "df_jeju_hun=df_jeju.groupby('REG_YYMM')['AMT'].sum()"
   ]
  },
  {
   "cell_type": "code",
   "execution_count": null,
   "metadata": {},
   "outputs": [],
   "source": [
    "type(df_jeju_hun)\n",
    "print(df_jeju_hun)"
   ]
  },
  {
   "cell_type": "code",
   "execution_count": null,
   "metadata": {},
   "outputs": [],
   "source": [
    "df_jeju['REG_YYMM'] = pd.to_datetime(df_jeju['REG_YYMM'], format='%Y%m')"
   ]
  },
  {
   "cell_type": "code",
   "execution_count": null,
   "metadata": {},
   "outputs": [],
   "source": [
    "df_jeju"
   ]
  },
  {
   "cell_type": "code",
   "execution_count": null,
   "metadata": {},
   "outputs": [],
   "source": [
    "df_alltime=df_jeju.groupby('REG_YYMM')['AMT'].sum()\n",
    "print(df_alltime)\n",
    "df_jeju2_graph = df_jeju.groupby('AGE')['AMT'].sum()\n",
    "print(df_jeju2_graph)\n",
    "print(type(df_jeju2_graph))\n",
    "df_jeju_age_reg = df_jeju.groupby(by=['AGE','REG_YYMM'], as_index=False)['CNT','CSTMR_CNT','AMT'].sum()\n",
    "print(df_jeju_age_reg)\n",
    "print(type(df_jeju_age_reg))"
   ]
  },
  {
   "cell_type": "markdown",
   "metadata": {},
   "source": [
    "## 각 연령대별 매월 총 방문횟수, 고객수, 총사용금액"
   ]
  },
  {
   "cell_type": "code",
   "execution_count": null,
   "metadata": {},
   "outputs": [],
   "source": [
    "df_jeju_age_reg"
   ]
  },
  {
   "cell_type": "markdown",
   "metadata": {},
   "source": [
    "## 제주시 서귀포시 매월 총 방문횟수, 고객수, 총사용금액"
   ]
  },
  {
   "cell_type": "code",
   "execution_count": null,
   "metadata": {},
   "outputs": [],
   "source": [
    "df_jeju_card_sido_reg = df_jeju.groupby(by=['CARD_CCG_NM','REG_YYMM'], as_index=True)['CNT','CSTMR_CNT','AMT'].sum()\n",
    "df_jeju_card_sido_reg"
   ]
  },
  {
   "cell_type": "markdown",
   "metadata": {},
   "source": [
    "## 각 거주지역별 매월 총 방문횟수, 고객수, 총사용금액"
   ]
  },
  {
   "cell_type": "code",
   "execution_count": null,
   "metadata": {},
   "outputs": [],
   "source": [
    "df_jeju_card_sido_reg = df_jeju.groupby(by=['HOM_SIDO_NM','HOM_CCG_NM','REG_YYMM'], as_index=True)['CNT','CSTMR_CNT','AMT'].sum()\n",
    "for i in df_jeju_card_sido_reg.columns[2:]:\n",
    "    df_jeju_card_sido_reg[i]=df_jeju_card_sido_reg[i].astype('float')\n",
    "df_jeju_card_sido_reg['방문별 사용금액'] = df_jeju_card_sido_reg['AMT']/df_jeju_card_sido_reg['CNT']\n",
    "df_jeju_card_sido_reg['1인당 사용금액'] = df_jeju_card_sido_reg['AMT']/df_jeju_card_sido_reg['CSTMR_CNT']\n",
    "pd.options.display.float_format = '{:,.0f}원'.format\n",
    "df_jeju_card_sido_reg"
   ]
  },
  {
   "cell_type": "markdown",
   "metadata": {},
   "source": [
    "## 업종별 매월 총 방문횟수, 고객수, 총사용금액"
   ]
  },
  {
   "cell_type": "code",
   "execution_count": null,
   "metadata": {},
   "outputs": [],
   "source": [
    "df_jeju_job_reg = df_jeju.groupby(by=['STD_CLSS_NM','REG_YYMM'], as_index=True)['CNT','CSTMR_CNT','AMT'].sum()\n",
    "for i in df_jeju_job_reg.columns[2:]:\n",
    "    df_jeju_job_reg[i]=df_jeju_job_reg[i].astype('float')\n",
    "df_jeju_job_reg['방문별 사용금액'] = df_jeju_job_reg['AMT']/df_jeju_job_reg['CNT']\n",
    "df_jeju_job_reg['1인당 사용금액'] = df_jeju_job_reg['AMT']/df_jeju_job_reg['CSTMR_CNT']\n",
    "pd.options.display.float_format = '{:,.0f}원'.format\n",
    "df_jeju_job_reg"
   ]
  },
  {
   "cell_type": "markdown",
   "metadata": {},
   "source": [
    "## 업종별 시계열 그래프 출력 (matplotlib)"
   ]
  },
  {
   "cell_type": "code",
   "execution_count": null,
   "metadata": {},
   "outputs": [],
   "source": [
    "column_list=df_jeju['STD_CLSS_NM'].unique()\n",
    "for i in column_list:\n",
    "    work = df_jeju_job_reg.loc[i]\n",
    "#     print(f\"{i}:{work}\")\n",
    "    for j in work.columns[2:]:\n",
    "        work_graph = work[j]\n",
    "#         print(f\"{i}의 월별 {j}\\n{work_graph}\") \n",
    "        frame = plt.figure()\n",
    "        grid = frame.add_subplot()\n",
    "        grid.plot(work_graph)\n",
    "        grid.set_xlabel('연월')\n",
    "        grid.set_ylabel(j)\n",
    "        grid.set_title(f'{i}의 월별 {j}')"
   ]
  },
  {
   "cell_type": "markdown",
   "metadata": {},
   "source": [
    "## 업종별 시계열 그래프 출력 (seaborn)"
   ]
  },
  {
   "cell_type": "code",
   "execution_count": null,
   "metadata": {},
   "outputs": [],
   "source": [
    "column_list=df_jeju['STD_CLSS_NM'].unique()\n",
    "for i in column_list:\n",
    "    work = df_jeju_job_reg.loc[i]\n",
    "    print(f\"{i}:{work}\")\n",
    "    for j in work.columns[2:]:\n",
    "        sns.lineplot(x=work.index,y=j,data=work)\n",
    "        plt.title('업종 시계열 그래프',fontsize= 15)\n",
    "        plt.grid()\n",
    "        plt.xlabel('월', fontsize=11)\n",
    "        plt.ylabel(f'{i}의 {j}', fontsize=11)\n",
    "        plt.show()"
   ]
  },
  {
   "cell_type": "markdown",
   "metadata": {},
   "source": [
    "## 월별 전체 총소비액 변화추이"
   ]
  },
  {
   "cell_type": "code",
   "execution_count": null,
   "metadata": {},
   "outputs": [],
   "source": [
    "df_jeju['AGE'].unique() # AGE 범주형 변수의 값 파악하는 메소드 unique()"
   ]
  },
  {
   "cell_type": "markdown",
   "metadata": {},
   "source": [
    "### 월별 20대 총소비액 변화추이"
   ]
  },
  {
   "cell_type": "code",
   "execution_count": null,
   "metadata": {},
   "outputs": [],
   "source": [
    "df_jeju2 = df_jeju[df_jeju['AGE']=='20s']\n",
    "df_jeju2_graph = df_jeju2.groupby('REG_YYMM')['AMT'].sum()\n",
    "print(type(df_jeju2_graph))\n",
    "print(df_jeju2_graph)\n",
    "print(df_jeju2_graph.plot())"
   ]
  },
  {
   "cell_type": "markdown",
   "metadata": {},
   "source": [
    "### 월별 30대 총소비액 변화추이"
   ]
  },
  {
   "cell_type": "code",
   "execution_count": null,
   "metadata": {},
   "outputs": [],
   "source": [
    "df_jeju3 = df_jeju[df_jeju['AGE']=='30s']\n",
    "df_jeju3_graph = df_jeju3.groupby('REG_YYMM')['AMT'].sum()\n",
    "df_jeju3_graph.plot()\n",
    "grid1=df_jeju3_graph.plot()"
   ]
  },
  {
   "cell_type": "markdown",
   "metadata": {},
   "source": [
    "### 월별 40대 총소비액 변화추이\n"
   ]
  },
  {
   "cell_type": "code",
   "execution_count": null,
   "metadata": {},
   "outputs": [],
   "source": [
    "df_jeju4= df_jeju[df_jeju['AGE']=='40s']\n",
    "df_jeju4_graph = df_jeju4.groupby('REG_YYMM')['AMT'].sum()\n",
    "grid2=df_jeju4_graph.plot()\n",
    "# grid2=df_jeju3_graph.plot()"
   ]
  },
  {
   "cell_type": "markdown",
   "metadata": {},
   "source": [
    "### 월별 50대 총소비액 변화추이\n"
   ]
  },
  {
   "cell_type": "code",
   "execution_count": null,
   "metadata": {},
   "outputs": [],
   "source": [
    "df_jeju5= df_jeju[df_jeju['AGE']=='50s']\n",
    "df_jeju5_graph = df_jeju5.groupby('REG_YYMM')['AMT'].sum()\n",
    "df_jeju5_graph.plot()"
   ]
  },
  {
   "cell_type": "markdown",
   "metadata": {},
   "source": [
    "### 월별 60대 총소비액 변화추이\n"
   ]
  },
  {
   "cell_type": "code",
   "execution_count": null,
   "metadata": {},
   "outputs": [],
   "source": [
    "df_jeju6= df_jeju[df_jeju['AGE']=='60s']\n",
    "df_jeju6_graph = df_jeju6.groupby('REG_YYMM')['AMT'].sum()\n",
    "df_jeju6_graph.plot()"
   ]
  },
  {
   "cell_type": "markdown",
   "metadata": {},
   "source": [
    "### 월별 70대 총소비액 변화추이\n"
   ]
  },
  {
   "cell_type": "code",
   "execution_count": null,
   "metadata": {},
   "outputs": [],
   "source": [
    "df_jeju7= df_jeju[df_jeju['AGE']=='70s']\n",
    "df_jeju7_graph = df_jeju7.groupby('REG_YYMM')['AMT'].sum()\n",
    "df_jeju7_graph.plot()"
   ]
  },
  {
   "cell_type": "markdown",
   "metadata": {},
   "source": [
    "### 성별 평균 사용금액"
   ]
  },
  {
   "cell_type": "code",
   "execution_count": null,
   "metadata": {},
   "outputs": [],
   "source": [
    "df_sex=plt.subplots()\n",
    "df_sex = sns.countplot('SEX_CTGO_CD', data=df_jeju)\n",
    "df_sex.set_title('Average amount by sex')\n",
    "df_sex.set_xlabel('Sex')\n",
    "df_sex.set_ylabel('mean')"
   ]
  },
  {
   "cell_type": "markdown",
   "metadata": {},
   "source": [
    "### 연령별 사용금액"
   ]
  },
  {
   "cell_type": "markdown",
   "metadata": {},
   "source": [
    "### 거주지역별 평균 사용금액"
   ]
  },
  {
   "cell_type": "code",
   "execution_count": null,
   "metadata": {},
   "outputs": [],
   "source": [
    "df_jeju"
   ]
  },
  {
   "cell_type": "code",
   "execution_count": null,
   "metadata": {
    "scrolled": true
   },
   "outputs": [],
   "source": [
    "df_jeju1 = df_jeju[df_jeju['AGE']=='10s']\n",
    "df_jeju2 = df_jeju[df_jeju['AGE']=='20s']\n",
    "df_jeju3 = df_jeju[df_jeju['AGE']=='30s']\n",
    "df_jeju4 = df_jeju[df_jeju['AGE']=='40s']\n",
    "df_jeju5 = df_jeju[df_jeju['AGE']=='50s']\n",
    "df_jeju6 = df_jeju[df_jeju['AGE']=='60s']\n",
    "df_jeju7 = df_jeju[df_jeju['AGE']=='70s']\n",
    "df_jeju1_graph = df_jeju1.groupby('REG_YYMM')['AMT'].sum()\n",
    "df_jeju2_graph = df_jeju2.groupby('REG_YYMM')['AMT'].sum()\n",
    "df_jeju3_graph = df_jeju3.groupby('REG_YYMM')['AMT'].sum()\n",
    "df_jeju4_graph = df_jeju4.groupby('REG_YYMM')['AMT'].sum()\n",
    "df_jeju5_graph = df_jeju5.groupby('REG_YYMM')['AMT'].sum()\n",
    "df_jeju6_graph = df_jeju6.groupby('REG_YYMM')['AMT'].sum()\n",
    "df_jeju7_graph = df_jeju7.groupby('REG_YYMM')['AMT'].sum()\n",
    "\n",
    "\n",
    "frame = plt.figure()\n",
    "grid1 = frame.add_subplot()\n",
    "grid1.plot(df_jeju1_graph)\n",
    "grid1.plot(df_jeju2_graph)\n",
    "grid1.plot(df_jeju3_graph)\n",
    "grid1.plot(df_jeju4_graph)\n",
    "grid1.plot(df_jeju5_graph)\n",
    "grid1.plot(df_jeju6_graph)\n",
    "grid1.plot(df_jeju7_graph)\n",
    "grid1.set_xlabel('연월')\n",
    "grid1.set_ylabel('총사용금액')\n",
    "grid1.set_title('월별 전체연령  총사용금액 변화')\n",
    "grid1.legend(('10s','20s','30s','40s','50s','60s','70s'),loc='upper center', bbox_to_anchor=(0.5, -0.05),\n",
    "          fancybox=True, shadow=True, ncol=5)"
   ]
  },
  {
   "cell_type": "code",
   "execution_count": null,
   "metadata": {},
   "outputs": [],
   "source": [
    "#40ㅡ50대 외부인이 많이 소비하는 업종은 ?\n",
    "# df_jeju4 = df_jeju[df_jeju['AGE']=='40s']\n",
    "df_jeju4_nojeju = df_jeju4[df_jeju4['HOM_SIDO_NM']!='제주']\n",
    "df_jeju4_nojeju\n",
    "df_jeju4_nojeju_graph = df_jeju4_nojeju.groupby(['REG_YYMM','STD_CLSS_NM'])['AMT'].sum()\n",
    "df_jeju4_nojeju_graphreset=df_jeju4_nojeju_graph.reset_index()\n",
    "df_jeju4_nojeju_graphreset\n",
    "df_jeju4_nojeju_graphreset['rank_AMT'] = df_jeju4_nojeju_graphreset['AMT'].rank(method='min')\n",
    "df_jeju4_nojeju_graphreset\n",
    "#2019년 1월 40대 육지인의 업종별 총사용금액 성적표\n",
    "df_jeju4_nojeju_graphreset_01= df_jeju4_nojeju_graphreset[df_jeju4_nojeju_graphreset['REG_YYMM']=='2019-01-01']\n",
    "df_jeju4_nojeju_graphreset_01['rank_AMT'] = df_jeju4_nojeju_graphreset_01['AMT'].rank(method='min',ascending = False)\n",
    "df_jeju4_nojeju_graphreset_01"
   ]
  },
  {
   "cell_type": "code",
   "execution_count": null,
   "metadata": {},
   "outputs": [],
   "source": [
    "signature(sns.lineplot) # 시그니처 함수에 사용할 메소드를 매개변수로 넣으면 메소드에 넣어야할 매개변수가 목록 나온다."
   ]
  },
  {
   "cell_type": "code",
   "execution_count": null,
   "metadata": {},
   "outputs": [],
   "source": [
    "frame_df_jeju4_nojeju = plt.figure()\n",
    "grid_df_jeju4_nojeju = frame_df_jeju4_nojeju.add_subplot()\n",
    "# grid_df_jeju4_nojeju.plot(df_jeju4_nojeju_graph)\n",
    "grid_df_jeju4_nojeju =sns.lineplot(x='REG_YYMM',y='AMT', hue='STD_CLSS_NM',data=df_jeju4_nojeju_graphreset,ci=0, size = 100)\n",
    "grid_df_jeju4_nojeju.set_xlabel('연월')\n",
    "grid_df_jeju4_nojeju.set_ylabel('총사용금액')\n",
    "grid_df_jeju4_nojeju.set_title('40대 육지인 업종별 월 사용금액')\n",
    "grid_df_jeju4_nojeju.legend(loc='upper center', bbox_to_anchor=(0.5, -0.05),\n",
    "          fancybox=True, shadow=True, ncol=5)\n",
    "\n",
    "# plt.rcParams['figure.figsize']=[20,10]\n",
    "# plt.xticks(fontsize = 20)"
   ]
  },
  {
   "cell_type": "code",
   "execution_count": null,
   "metadata": {},
   "outputs": [],
   "source": [
    "df_jejuf1 = df_jeju[df_jeju['FLC']==1]\n",
    "df_jejuf2 = df_jeju[df_jeju['FLC']==2]\n",
    "df_jejuf3 = df_jeju[df_jeju['FLC']==3]\n",
    "df_jejuf4 = df_jeju[df_jeju['FLC']==4]\n",
    "df_jejuf5 = df_jeju[df_jeju['FLC']==5]\n",
    "\n",
    "df_jejuf1_graph = df_jejuf1.groupby('REG_YYMM')['AMT'].sum()\n",
    "df_jejuf2_graph = df_jejuf2.groupby('REG_YYMM')['AMT'].sum()\n",
    "df_jejuf3_graph = df_jejuf3.groupby('REG_YYMM')['AMT'].sum()\n",
    "df_jejuf4_graph = df_jejuf4.groupby('REG_YYMM')['AMT'].sum()\n",
    "df_jejuf5_graph = df_jejuf5.groupby('REG_YYMM')['AMT'].sum()\n",
    "\n",
    "\n",
    "\n",
    "frame = plt.figure()\n",
    "gridf1 = frame.add_subplot()\n",
    "gridf1.plot(df_jejuf1_graph)\n",
    "gridf1.plot(df_jejuf2_graph)\n",
    "gridf1.plot(df_jejuf3_graph)\n",
    "gridf1.plot(df_jejuf4_graph)\n",
    "gridf1.plot(df_jejuf5_graph)\n",
    "gridf1.set_xlabel('연월')\n",
    "gridf1.set_ylabel('총사용금액')\n",
    "gridf1.set_title('월별 전체가구유형  총사용금액 변화')\n",
    "gridf1.legend((1,2,3,4,5),loc='upper center', bbox_to_anchor=(0.5, -0.05),\n",
    "          fancybox=True, shadow=True, ncol=5)"
   ]
  },
  {
   "cell_type": "code",
   "execution_count": null,
   "metadata": {},
   "outputs": [],
   "source": [
    "df_jejuf1_graph"
   ]
  },
  {
   "cell_type": "code",
   "execution_count": null,
   "metadata": {},
   "outputs": [],
   "source": [
    "pp(df_jeju['HOM_SIDO_NM'].unique())"
   ]
  },
  {
   "cell_type": "code",
   "execution_count": null,
   "metadata": {},
   "outputs": [],
   "source": [
    "df_jejulo1 = df_jeju[df_jeju['HOM_SIDO_NM']=='부산']\n",
    "df_jejulo2 = df_jeju[df_jeju['HOM_SIDO_NM']=='인천']\n",
    "# df_jejulo3 = df_jeju[df_jeju['HOM_SIDO_NM']=='제주']\n",
    "df_jejulo4 = df_jeju[df_jeju['HOM_SIDO_NM']=='경기']\n",
    "df_jejulo5 = df_jeju[df_jeju['HOM_SIDO_NM']=='광주']\n",
    "df_jejulo6 = df_jeju[df_jeju['HOM_SIDO_NM']=='대구']\n",
    "df_jejulo7 = df_jeju[df_jeju['HOM_SIDO_NM']=='대전']\n",
    "df_jejulo8 = df_jeju[df_jeju['HOM_SIDO_NM']=='서울']\n",
    "df_jejulo9 = df_jeju[df_jeju['HOM_SIDO_NM']=='울산']\n",
    "df_jejulo10 = df_jeju[df_jeju['HOM_SIDO_NM']=='전남']\n",
    "df_jejulo11 = df_jeju[df_jeju['HOM_SIDO_NM']=='강원']\n",
    "df_jejulo12 = df_jeju[df_jeju['HOM_SIDO_NM']=='경남']\n",
    "df_jejulo13 = df_jeju[df_jeju['HOM_SIDO_NM']=='경북']\n",
    "df_jejulo14 = df_jeju[df_jeju['HOM_SIDO_NM']=='세종']\n",
    "df_jejulo15 = df_jeju[df_jeju['HOM_SIDO_NM']=='전북']\n",
    "df_jejulo16 = df_jeju[df_jeju['HOM_SIDO_NM']=='충남']\n",
    "df_jejulo17 = df_jeju[df_jeju['HOM_SIDO_NM']=='충북']\n",
    "\n",
    "\n",
    "df_jejulo1_graph = df_jejulo1.groupby('REG_YYMM')['AMT'].sum()\n",
    "df_jejulo2_graph = df_jejulo2.groupby('REG_YYMM')['AMT'].sum()\n",
    "# df_jejulo3_graph = df_jejulo3.groupby('date')['AMT'].sum()\n",
    "df_jejulo4_graph = df_jejulo4.groupby('REG_YYMM')['AMT'].sum()\n",
    "df_jejulo5_graph = df_jejulo5.groupby('REG_YYMM')['AMT'].sum()\n",
    "df_jejulo6_graph = df_jejulo6.groupby('REG_YYMM')['AMT'].sum()\n",
    "df_jejulo7_graph = df_jejulo7.groupby('REG_YYMM')['AMT'].sum()\n",
    "df_jejulo8_graph = df_jejulo8.groupby('REG_YYMM')['AMT'].sum()\n",
    "df_jejulo9_graph = df_jejulo9.groupby('REG_YYMM')['AMT'].sum()\n",
    "df_jejulo10_graph = df_jejulo10.groupby('REG_YYMM')['AMT'].sum()\n",
    "df_jejulo11_graph = df_jejulo11.groupby('REG_YYMM')['AMT'].sum()\n",
    "df_jejulo12_graph = df_jejulo12.groupby('REG_YYMM')['AMT'].sum()\n",
    "df_jejulo13_graph = df_jejulo13.groupby('REG_YYMM')['AMT'].sum()\n",
    "df_jejulo14_graph = df_jejulo14.groupby('REG_YYMM')['AMT'].sum()\n",
    "df_jejulo15_graph = df_jejulo15.groupby('REG_YYMM')['AMT'].sum()\n",
    "df_jejulo16_graph = df_jejulo16.groupby('REG_YYMM')['AMT'].sum()\n",
    "df_jejulo17_graph = df_jejulo17.groupby('REG_YYMM')['AMT'].sum()\n",
    "\n",
    "\n",
    "\n",
    "\n",
    "frame = plt.figure()\n",
    "gridlo1 = frame.add_subplot()\n",
    "gridlo1.plot(df_jejulo1_graph)\n",
    "gridlo1.plot(df_jejulo2_graph)\n",
    "# gridlo1.plot(df_jejulo3_graph)\n",
    "gridlo1.plot(df_jejulo4_graph)\n",
    "gridlo1.plot(df_jejulo5_graph)\n",
    "gridlo1.plot(df_jejulo6_graph)\n",
    "gridlo1.plot(df_jejulo7_graph)\n",
    "gridlo1.plot(df_jejulo8_graph)\n",
    "gridlo1.plot(df_jejulo9_graph)\n",
    "gridlo1.plot(df_jejulo10_graph)\n",
    "gridlo1.plot(df_jejulo12_graph)\n",
    "gridlo1.plot(df_jejulo13_graph)\n",
    "gridlo1.plot(df_jejulo14_graph)\n",
    "gridlo1.plot(df_jejulo15_graph)\n",
    "gridlo1.plot(df_jejulo16_graph)\n",
    "gridlo1.plot(df_jejulo17_graph)\n",
    "\n",
    "gridlo1.set_xlabel('연월')\n",
    "gridlo1.set_ylabel('총사용금액')\n",
    "gridlo1.set_title('월별 전체지역 총소비금액(제주제외)')\n",
    "gridlo1.legend(('부산', '인천', '경기', '광주', '대구', '대전', '서울', '울산', '전남', '강원',\n",
    "       '경남', '경북', '세종', '전북', '충남', '충북'),loc='upper center', bbox_to_anchor=(0.5, -0.05),\n",
    "          fancybox=True, shadow=True, ncol=5)\n"
   ]
  },
  {
   "cell_type": "code",
   "execution_count": null,
   "metadata": {},
   "outputs": [],
   "source": [
    "df_jejus1 = df_jeju[df_jeju['SEX_CTGO_CD']==1]\n",
    "df_jejus2 = df_jeju[df_jeju['SEX_CTGO_CD']==2]\n",
    "\n",
    "df_jejus1_graph = df_jejus1.groupby('REG_YYMM')['AMT'].sum()\n",
    "df_jejus2_graph = df_jejus2.groupby('REG_YYMM')['AMT'].sum()\n",
    "\n",
    "\n",
    "\n",
    "frame = plt.figure()\n",
    "grids1 = frame.add_subplot()\n",
    "grids1.plot(df_jejus1_graph)\n",
    "grids1.plot(df_jejus2_graph)\n",
    "\n",
    "grids1.set_xlabel('연월')\n",
    "grids1.set_ylabel('총사용금액')\n",
    "grids1.set_title('월별 성별(남성,여성) 총사용금액')\n",
    "grids1.legend(('남성','여성'))\n",
    "\n",
    "#          bbox_to_anchor=(0.5, -0.05),\n",
    "#           fancybox=True, shadow=True)"
   ]
  },
  {
   "cell_type": "code",
   "execution_count": null,
   "metadata": {},
   "outputs": [],
   "source": [
    "df_jejus1_graph = df_jejus1.groupby('REG_YYMM')['AMT'].sum()\n",
    "df_jejus1_graph"
   ]
  },
  {
   "cell_type": "code",
   "execution_count": null,
   "metadata": {},
   "outputs": [],
   "source": [
    "df_jejusc1 = df_jeju[df_jeju['SEX_CTGO_CD']==1]\n",
    "df_jejusc2 = df_jeju[df_jeju['SEX_CTGO_CD']==2]\n",
    "\n",
    "df_jejusc1_graph = df_jejusc1.groupby('REG_YYMM')['CNT'].sum()\n",
    "df_jejusc2_graph = df_jejusc2.groupby('REG_YYMM')['CNT'].sum()\n",
    "\n",
    "\n",
    "\n",
    "frame = plt.figure()\n",
    "gridsc1 = frame.add_subplot()\n",
    "gridsc1.plot(df_jejusc1_graph)\n",
    "gridsc1.plot(df_jejusc2_graph)\n",
    "\n",
    "gridsc1.set_xlabel('연월')\n",
    "gridsc1.set_ylabel('총이용고객수')\n",
    "gridsc1.set_title('월별 성별(남성,여성) 이용건수')\n",
    "gridsc1.legend(('남성','여성' ))\n",
    "#          bbox_to_anchor=(0.5, -0.05),\n",
    "#           fancybox=True, shadow=True, ncol=5)"
   ]
  },
  {
   "cell_type": "code",
   "execution_count": null,
   "metadata": {},
   "outputs": [],
   "source": [
    "df_jeju.groupby('HOM_SIDO_NM').count()"
   ]
  },
  {
   "cell_type": "code",
   "execution_count": null,
   "metadata": {},
   "outputs": [],
   "source": [
    "df_jeju"
   ]
  },
  {
   "cell_type": "code",
   "execution_count": null,
   "metadata": {},
   "outputs": [],
   "source": [
    "##제주도 업종현황\n",
    "df_jeju.STD_CLSS_NM.unique()\n",
    "# .reset_index()"
   ]
  },
  {
   "cell_type": "code",
   "execution_count": null,
   "metadata": {
    "scrolled": false
   },
   "outputs": [],
   "source": [
    "#날짜별, 업종별, 시별 분류\n",
    "df_jeju_industry=df_jeju.groupby('REG_YYMM').sum()\n",
    "df_jeju_industry.reset_index()\n",
    "df_jeju_industry"
   ]
  },
  {
   "cell_type": "code",
   "execution_count": null,
   "metadata": {},
   "outputs": [],
   "source": [
    "df_jejucondo = df_jeju[df_jeju['STD_CLSS_NM']=='휴양콘도 운영업']\n",
    "df_jejuhotel = df_jeju[df_jeju['STD_CLSS_NM']=='호텔업']\n",
    "df_jejuyeogwan = df_jeju[df_jeju['STD_CLSS_NM']=='여관업']\n",
    "\n",
    "# (1)휴앙콘도 운영업 시도별 비교 위한 데이터프레임 출력\n",
    "df_jejucondo_jejusi = df_jejucondo[df_jejucondo['CARD_CCG_NM']=='제주시']\n",
    "df_jejucondo_sgp = df_jejucondo[df_jejucondo['CARD_CCG_NM']=='서귀포시']\n",
    "\n",
    "df_jejucondo_jejusi_graph = df_jejucondo_jejusi.groupby('REG_YYMM')['AMT'].sum()\n",
    "df_jejucondo_sgp_graph = df_jejucondo_sgp.groupby('REG_YYMM')['AMT'].sum()\n",
    "\n",
    "frame_jejucondo = plt.figure()\n",
    "gridjejucondo = frame_jejucondo.add_subplot()\n",
    "gridjejucondo.plot(df_jejucondo_jejusi_graph)\n",
    "gridjejucondo.plot(df_jejucondo_sgp_graph)\n",
    "\n",
    "gridjejucondo.set_xlabel('연월')\n",
    "gridjejucondo.set_ylabel('총사용금액')\n",
    "gridjejucondo.set_title('시별(제주시, 서귀포시) 콘도사업 총매출 변화추이')\n",
    "gridjejucondo.legend(('제주시','서귀포시'))"
   ]
  },
  {
   "cell_type": "code",
   "execution_count": null,
   "metadata": {},
   "outputs": [],
   "source": [
    "# (1)휴앙콘도 운영업 시도별 비교 위한 데이터프레임 출력\n",
    "df_jejucondo_jejusi = df_jejucondo[df_jejucondo['CARD_CCG_NM']=='제주시']\n",
    "df_jejucondo_sgp = df_jejucondo[df_jejucondo['CARD_CCG_NM']=='서귀포시']\n",
    "\n",
    "df_jejucondo_jejusi_graph2 = df_jejucondo_jejusi.groupby('REG_YYMM')['CNT'].sum()\n",
    "df_jejucondo_sgp_graph2 = df_jejucondo_sgp.groupby('REG_YYMM')['CNT'].sum()\n",
    "\n",
    "frame_jejucondo = plt.figure()\n",
    "gridjejucondo = frame_jejucondo.add_subplot()\n",
    "gridjejucondo.plot(df_jejucondo_jejusi_graph2)\n",
    "gridjejucondo.plot(df_jejucondo_sgp_graph2)\n",
    "\n",
    "gridjejucondo.set_xlabel('연월')\n",
    "gridjejucondo.set_ylabel('총이용건수')\n",
    "gridjejucondo.set_title('시별(제주시, 서귀포시) 콘도사업 총이용건수 변화추이')\n",
    "gridjejucondo.legend(('제주시','서귀포시'))"
   ]
  },
  {
   "cell_type": "code",
   "execution_count": null,
   "metadata": {},
   "outputs": [],
   "source": [
    "# (2) 호텔업 시도별 비교 위한 데이터프레임 출력\n",
    "df_jejuhotel_jejusi = df_jejuhotel[df_jejuhotel['CARD_CCG_NM']=='제주시']\n",
    "df_jejuhotel_sgp = df_jejuhotel[df_jejuhotel['CARD_CCG_NM']=='서귀포시']\n",
    "\n",
    "df_jejuhotel_jejusi_graph = df_jejuhotel_jejusi.groupby('REG_YYMM')['AMT'].sum()\n",
    "df_jejuhotel_sgp_graph = df_jejuhotel_sgp.groupby('REG_YYMM')['AMT'].sum()\n",
    "\n",
    "frame_jejuhotel = plt.figure()\n",
    "gridjejuhotel = frame_jejuhotel.add_subplot()\n",
    "gridjejuhotel.plot(df_jejuhotel_jejusi_graph)\n",
    "gridjejuhotel.plot(df_jejuhotel_sgp_graph)\n",
    "\n",
    "gridjejuhotel.set_xlabel('연월')\n",
    "gridjejuhotel.set_ylabel('총매출')\n",
    "gridjejuhotel.set_title('시별(제주시, 서귀포시) 호텔사업 총매출 변화추이')\n",
    "gridjejuhotel.legend(('제주시','서귀포시'))"
   ]
  },
  {
   "cell_type": "code",
   "execution_count": null,
   "metadata": {},
   "outputs": [],
   "source": [
    "df_jejuhotel_jejusi = df_jejuhotel[df_jejuhotel['CARD_CCG_NM']=='제주시']\n",
    "df_jejuhotel_sgp = df_jejuhotel[df_jejuhotel['CARD_CCG_NM']=='서귀포시']\n",
    "\n",
    "df_jejuhotel_jejusi_graph = df_jejuhotel_jejusi.groupby('REG_YYMM')['AMT'].sum()\n",
    "df_jejuhotel_sgp_graph = df_jejuhotel_sgp.groupby('REG_YYMM')['AMT'].sum()\n",
    "df_jejuhotel_jejusi_graph2 = df_jejuhotel_jejusi.groupby('REG_YYMM')['CNT'].sum()\n",
    "df_jejuhotel_sgp_graph2 = df_jejuhotel_sgp.groupby('REG_YYMM')['CNT'].sum()\n",
    "\n",
    "frame_jejuhotel = plt.figure()\n",
    "gridjejuhotel = frame_jejuhotel.add_subplot()\n",
    "gridjejuhotel.plot(df_jejuhotel_jejusi_graph2)\n",
    "gridjejuhotel.plot(df_jejuhotel_sgp_graph2)\n",
    "\n",
    "gridjejuhotel.set_xlabel('연월')\n",
    "gridjejuhotel.set_ylabel('총이용건수')\n",
    "gridjejuhotel.set_title('시별(제주시, 서귀포시) 호텔사업 총이용건수 변화추이')\n",
    "gridjejuhotel.legend(('제주시','서귀포시'))"
   ]
  },
  {
   "cell_type": "code",
   "execution_count": null,
   "metadata": {},
   "outputs": [],
   "source": [
    "# (3) 여관업 시도별 비교 위한 데이터프레임 출력\n",
    "df_jejuyeogwan_jejusi = df_jejuyeogwan[df_jejuyeogwan['CARD_CCG_NM']=='제주시']\n",
    "df_jejuyeogwan_sgp = df_jejuyeogwan[df_jejuyeogwan['CARD_CCG_NM']=='서귀포시']\n",
    "\n",
    "df_jejuyeogwan_jejusi_graph = df_jejuyeogwan_jejusi.groupby('REG_YYMM')['AMT'].sum()\n",
    "df_jejuyeogwan_sgp_graph = df_jejuyeogwan_sgp.groupby('REG_YYMM')['AMT'].sum()\n",
    "\n",
    "\n",
    "frame_jejuyeogwan = plt.figure()\n",
    "gridjejuyeogwan = frame_jejuyeogwan.add_subplot()\n",
    "gridjejuyeogwan.plot(df_jejuyeogwan_jejusi_graph)\n",
    "gridjejuyeogwan.plot(df_jejuyeogwan_sgp_graph)\n",
    "\n",
    "gridjejuyeogwan.set_xlabel('연월')\n",
    "gridjejuyeogwan.set_ylabel('총매출')\n",
    "gridjejuyeogwan.set_title('시별(제주시, 서귀포시) 여관업 총매출 변화추이')\n",
    "gridjejuyeogwan.legend(('제주시','서귀포시'))"
   ]
  },
  {
   "cell_type": "code",
   "execution_count": null,
   "metadata": {},
   "outputs": [],
   "source": [
    "df_jejuyeogwan_jejusi = df_jejuyeogwan[df_jejuyeogwan['CARD_CCG_NM']=='제주시']\n",
    "df_jejuyeogwan_sgp = df_jejuyeogwan[df_jejuyeogwan['CARD_CCG_NM']=='서귀포시']\n",
    "\n",
    "df_jejuyeogwan_jejusi_graph2 = df_jejuyeogwan_jejusi.groupby('REG_YYMM')['CNT'].sum()\n",
    "df_jejuyeogwan_sgp_graph2 = df_jejuyeogwan_sgp.groupby('REG_YYMM')['CNT'].sum()\n",
    "\n",
    "frame_jejuyeogwan = plt.figure()\n",
    "gridjejuyeogwan = frame_jejuyeogwan.add_subplot()\n",
    "gridjejuyeogwan.plot(df_jejuyeogwan_jejusi_graph2)\n",
    "gridjejuyeogwan.plot(df_jejuyeogwan_sgp_graph2)\n",
    "\n",
    "gridjejuyeogwan.set_xlabel('연월')\n",
    "gridjejuyeogwan.set_ylabel('총이용건수')\n",
    "gridjejuyeogwan.set_title('시별(제주시, 서귀포시) 여관업 총이용건수 변화추이')\n",
    "gridjejuyeogwan.legend(('제주시','서귀포시'))"
   ]
  },
  {
   "cell_type": "code",
   "execution_count": null,
   "metadata": {},
   "outputs": [],
   "source": [
    "df_jejucondo = df_jeju[df_jeju['STD_CLSS_NM']=='휴양콘도 운영업']\n",
    "df_jejuhotel = df_jeju[df_jeju['STD_CLSS_NM']=='호텔업']\n",
    "df_jejuyeogwan = df_jeju[df_jeju['STD_CLSS_NM']=='여관업']\n",
    "df_jejuacco = pd.concat([df_jejucondo,df_jejuhotel,df_jejuyeogwan])\n"
   ]
  },
  {
   "cell_type": "code",
   "execution_count": null,
   "metadata": {},
   "outputs": [],
   "source": [
    "df_jejuacco_jejusi = df_jejuacco[df_jejuacco['CARD_CCG_NM']=='제주시']\n",
    "df_jejuacco_sgp = df_jejuacco[df_jejuacco['CARD_CCG_NM']=='서귀포시']\n",
    "\n",
    "df_jejuacco_jejusi_graph = df_jejuacco_jejusi.groupby('REG_YYMM')['AMT'].sum()\n",
    "df_jejuacco_sgp_graph = df_jejuacco_sgp.groupby('REG_YYMM')['AMT'].sum()\n",
    "\n",
    "frame_jejuacco = plt.figure()\n",
    "gridjejuacco = frame_jejuacco.add_subplot()\n",
    "gridjejuacco.plot(df_jejuacco_jejusi_graph)\n",
    "gridjejuacco.plot(df_jejuacco_sgp_graph)\n",
    "\n",
    "gridjejuacco.set_xlabel('연월')\n",
    "gridjejuacco.set_ylabel('총매출')\n",
    "gridjejuacco.set_title('시별(제주시, 서귀포시) 숙박업 총매출 변화추이')\n",
    "gridjejuacco.legend(('제주시','서귀포시'))"
   ]
  },
  {
   "cell_type": "code",
   "execution_count": null,
   "metadata": {},
   "outputs": [],
   "source": [
    "df_jejuacco_jejusi = df_jejuacco[df_jejuacco['CARD_CCG_NM']=='제주시']\n",
    "df_jejuacco_sgp = df_jejuacco[df_jejuacco['CARD_CCG_NM']=='서귀포시']\n",
    "df_jejuhotel_jejusi = df_jejuhotel[df_jejuhotel['CARD_CCG_NM']=='제주시']\n",
    "df_jejuhotel_sgp = df_jejuhotel[df_jejuhotel['CARD_CCG_NM']=='서귀포시']\n",
    "\n",
    "df_jejuacco_jejusi_graph2 = df_jejuacco_jejusi.groupby('REG_YYMM')['CNT'].sum()\n",
    "df_jejuacco_sgp_graph2 = df_jejuacco_sgp.groupby('REG_YYMM')['CNT'].sum()\n",
    "\n",
    "frame_jejuacco = plt.figure()\n",
    "gridjejuacco = frame_jejuacco.add_subplot()\n",
    "gridjejuacco.plot(df_jejuacco_jejusi_graph2)\n",
    "gridjejuacco.plot(df_jejuacco_sgp_graph2)\n",
    "\n",
    "gridjejuacco.set_xlabel('연월')\n",
    "gridjejuacco.set_ylabel('총이용건수')\n",
    "gridjejuacco.set_title('시별(제주시, 서귀포시) 숙박업 총이용건수 변화추이')\n",
    "gridjejuacco.legend(('제주시','서귀포시'))\n",
    "\n",
    "plt.show()"
   ]
  },
  {
   "cell_type": "code",
   "execution_count": null,
   "metadata": {},
   "outputs": [],
   "source": [
    "df_jeju.head()"
   ]
  },
  {
   "cell_type": "code",
   "execution_count": null,
   "metadata": {},
   "outputs": [],
   "source": [
    "# 숙박업간 비교\n",
    "# df_jejucondo = df_jeju[df_jeju['STD_CLSS_NM']=='휴양콘도 운영업']\n",
    "# df_jejuhotel = df_jeju[df_jeju['STD_CLSS_NM']=='호텔업']\n",
    "# df_jejuyeogwan = df_jeju[df_jeju['STD_CLSS_NM']=='여관업']\n",
    "\n",
    "# (1)휴앙콘도 운영업 시도별 비교 위한 데이터프레임 출력\n",
    "# df_jejucondo_jejusi = df_jejucondo[df_jejucondo['CARD_CCG_NM']=='제주시']\n",
    "# df_jejucondo_sgp = df_jejucondo[df_jejucondo['CARD_CCG_NM']=='서귀포시']\n",
    "\n",
    "df_jejucondo_graph = df_jejucondo.groupby('REG_YYMM')['AMT'].sum()\n",
    "df_jejuhotel_graph = df_jejuhotel.groupby('REG_YYMM')['AMT'].sum()\n",
    "df_jejuyeogwan_graph = df_jejuyeogwan.groupby('REG_YYMM')['AMT'].sum()\n",
    "\n",
    "\n",
    "frame_jejuacco3vs = plt.figure()\n",
    "gridjejuacco3vs = frame_jejuacco3vs.add_subplot()\n",
    "gridjejuacco3vs.plot(df_jejucondo_graph)\n",
    "gridjejuacco3vs.plot(df_jejuhotel_graph)\n",
    "gridjejuacco3vs.plot(df_jejuyeogwan_graph)\n",
    "\n",
    "\n",
    "\n",
    "gridjejuacco3vs.set_xlabel('연월', fontsize=15)\n",
    "gridjejuacco3vs.set_ylabel('총사용금액', fontsize=15)\n",
    "gridjejuacco3vs.set_title('제주도 숙박업별 총매출 변화추이', fontsize=15)\n",
    "gridjejuacco3vs.legend(('휴양콘도 운영업','호텔업','여관업'), fontsize=7)\n",
    "\n",
    "plt.show()"
   ]
  },
  {
   "cell_type": "code",
   "execution_count": null,
   "metadata": {},
   "outputs": [],
   "source": [
    "df_jejucondo_graphc = df_jejucondo.groupby('REG_YYMM')['CNT'].sum()\n",
    "df_jejuhotel_graphc = df_jejuhotel.groupby('REG_YYMM')['CNT'].sum()\n",
    "df_jejuyeogwan_graphc = df_jejuyeogwan.groupby('REG_YYMM')['CNT'].sum()\n",
    "\n",
    "\n",
    "frame_jejuacco3vsc = plt.figure()\n",
    "gridjejuacco3vsc = frame_jejuacco3vsc.add_subplot()\n",
    "gridjejuacco3vsc.plot(df_jejucondo_graphc)\n",
    "gridjejuacco3vsc.plot(df_jejuhotel_graphc)\n",
    "gridjejuacco3vsc.plot(df_jejuyeogwan_graphc)\n",
    "\n",
    "\n",
    "\n",
    "gridjejuacco3vsc.set_xlabel('연월', fontsize=1)\n",
    "gridjejuacco3vsc.set_ylabel('총사용금액', fontsize=15)\n",
    "gridjejuacco3vsc.set_title('제주도 숙박업별 총이용건수 변화추이', fontsize=15)\n",
    "gridjejuacco3vsc.legend(('휴양콘도 운영업','호텔업','여관업'), fontsize=7)\n",
    "\n",
    "plt.show()"
   ]
  },
  {
   "cell_type": "code",
   "execution_count": null,
   "metadata": {},
   "outputs": [],
   "source": [
    "frame_jejusiacco3AMT = plt.figure()\n",
    "gridjejusiacco3AMT = frame_jejusiacco3AMT.add_subplot()\n",
    "gridjejusiacco3AMT.plot(df_jejucondo_jejusi_graph)\n",
    "gridjejusiacco3AMT.plot(df_jejuhotel_jejusi_graph)\n",
    "gridjejusiacco3AMT.plot(df_jejuyeogwan_jejusi_graph)\n",
    "\n",
    "gridjejusiacco3AMT.set_xlabel('연월',fontsize=15)\n",
    "gridjejusiacco3AMT.set_ylabel('총매출액',fontsize=15)\n",
    "gridjejusiacco3AMT.set_title('제주시 업종별 총매출 추이',fontsize=15)\n",
    "gridjejusiacco3AMT.legend(('휴양콘도 운영업','호텔업','여관업'),fontsize=7)"
   ]
  },
  {
   "cell_type": "code",
   "execution_count": null,
   "metadata": {},
   "outputs": [],
   "source": [
    "frame_jejusiacco3CNT = plt.figure()\n",
    "gridjejusiacco3CNT = frame_jejusiacco3CNT.add_subplot()\n",
    "gridjejusiacco3CNT.plot(df_jejucondo_jejusi_graph2)\n",
    "gridjejusiacco3CNT.plot(df_jejuhotel_jejusi_graph2)\n",
    "gridjejusiacco3CNT.plot(df_jejuyeogwan_jejusi_graph2)\n",
    "\n",
    "gridjejusiacco3CNT.set_xlabel('연월',fontsize=15)\n",
    "gridjejusiacco3CNT.set_ylabel('총이용건수',fontsize=15)\n",
    "gridjejusiacco3CNT.set_title('제주시 업종별 월 총이용건수 변화추이',fontsize=15)\n",
    "gridjejusiacco3CNT.legend(('휴양콘도 운영업','호텔업','여관업',),fontsize=7)"
   ]
  },
  {
   "cell_type": "code",
   "execution_count": null,
   "metadata": {},
   "outputs": [],
   "source": [
    "frame_sgpacco3AMT = plt.figure()\n",
    "gridsgpacco3AMT = frame_sgpacco3AMT.add_subplot()\n",
    "# gridjejuacco6AMT.plot(df_jejucondo_jejusi_graph)\n",
    "gridsgpacco3AMT.plot(df_jejucondo_sgp_graph)\n",
    "# gridjejuacco6AMT.plot(df_jejuhotel_jejusi_graph)\n",
    "gridsgpacco3AMT.plot(df_jejuhotel_sgp_graph)\n",
    "# gridjejuacco6AMT.plot(df_jejuyeogwan_jejusi_graph)\n",
    "gridsgpacco3AMT.plot(df_jejuyeogwan_sgp_graph)\n",
    "\n",
    "gridsgpacco3AMT.set_xlabel('연월',fontsize=15)\n",
    "gridsgpacco3AMT.set_ylabel('총이용건수',fontsize=15)\n",
    "gridsgpacco3AMT.set_title('서귀포시 업종별 총매출 변화추이',fontsize=15)\n",
    "gridsgpacco3AMT.legend(('휴양콘도 운영업','호텔업','여관업'),fontsize=7)"
   ]
  },
  {
   "cell_type": "code",
   "execution_count": null,
   "metadata": {},
   "outputs": [],
   "source": [
    "frame_sgpacco3CNT = plt.figure()\n",
    "gridsgpacco3CNT = frame_sgpacco3CNT.add_subplot()\n",
    "# gridjejuacco6AMT.plot(df_jejucondo_jejusi_graph)\n",
    "gridsgpacco3CNT.plot(df_jejucondo_sgp_graph2)\n",
    "# gridjejuacco6AMT.plot(df_jejuhotel_jejusi_graph)\n",
    "gridsgpacco3CNT.plot(df_jejuhotel_sgp_graph2)\n",
    "# gridjejuacco6AMT.plot(df_jejuyeogwan_jejusi_graph)\n",
    "gridsgpacco3CNT.plot(df_jejuyeogwan_sgp_graph2)\n",
    "\n",
    "gridsgpacco3CNT.set_xlabel('연월',fontsize=15)\n",
    "gridsgpacco3CNT.set_ylabel('총이용건수',fontsize=15)\n",
    "gridsgpacco3CNT.set_title('서귀포시 업종별 총이용건수 추이',fontsize=15)\n",
    "gridsgpacco3CNT.legend(('휴양콘도 운영업','호텔업','여관업'),fontsize=7)"
   ]
  },
  {
   "cell_type": "code",
   "execution_count": null,
   "metadata": {},
   "outputs": [],
   "source": [
    "#시별 업종별 총매출 추이\n",
    "frame_jejuacco6AMT = plt.figure()\n",
    "gridjejuacco6AMT = frame_jejuacco6AMT.add_subplot()\n",
    "gridjejuacco6AMT.plot(df_jejucondo_jejusi_graph)\n",
    "gridjejuacco6AMT.plot(df_jejucondo_sgp_graph)\n",
    "gridjejuacco6AMT.plot(df_jejuhotel_jejusi_graph)\n",
    "gridjejuacco6AMT.plot(df_jejuhotel_sgp_graph)\n",
    "gridjejuacco6AMT.plot(df_jejuyeogwan_jejusi_graph)\n",
    "gridjejuacco6AMT.plot(df_jejuyeogwan_sgp_graph)\n",
    "\n",
    "gridjejuacco6AMT.set_xlabel('연월',fontsize=15)\n",
    "gridjejuacco6AMT.set_ylabel('총매출액',fontsize=15)\n",
    "gridjejuacco6AMT.set_title('시별 업종별 총매출 추이',fontsize=15)\n",
    "gridjejuacco6AMT.legend(('제주시 휴양콘도 운영업','서귀포시 휴양콘도 운영업','제주시 호텔업','서귀포시 호텔업','제주시 여관업','서귀포시 여관업'),fontsize=7)"
   ]
  },
  {
   "cell_type": "code",
   "execution_count": null,
   "metadata": {},
   "outputs": [],
   "source": [
    "frame_jejuacco6CNT = plt.figure()\n",
    "gridjejuacco6CNT = frame_jejuacco6CNT.add_subplot()\n",
    "gridjejuacco6CNT.plot(df_jejucondo_jejusi_graph2)\n",
    "gridjejuacco6CNT.plot(df_jejucondo_sgp_graph2)\n",
    "gridjejuacco6CNT.plot(df_jejuhotel_jejusi_graph2)\n",
    "gridjejuacco6CNT.plot(df_jejuhotel_sgp_graph2)\n",
    "gridjejuacco6CNT.plot(df_jejuyeogwan_jejusi_graph2)\n",
    "gridjejuacco6CNT.plot(df_jejuyeogwan_sgp_graph2)\n",
    "\n",
    "gridjejuacco6CNT.set_xlabel('연월',fontsize=15)\n",
    "gridjejuacco6CNT.set_ylabel('총이용건수',fontsize=15)\n",
    "gridjejuacco6CNT.set_title('시별 업종별 총이용건수',fontsize=15)\n",
    "gridjejuacco6CNT.legend(('제주시 휴양콘도 운영업','서귀포시 휴양콘도 운영업','제주시 호텔업','서귀포시 호텔업','제주시 여관업','서귀포시 여관업'),fontsize=7)"
   ]
  },
  {
   "cell_type": "code",
   "execution_count": null,
   "metadata": {},
   "outputs": [],
   "source": [
    "#월별 관련업종별  \n",
    "\n",
    "df_jejulive = df_jeju[df_jeju['SEX_CTGO_CD']==1]\n",
    "df_jejulive= df_jeju[df_jeju['SEX_CTGO_CD']==2]\n",
    "\n",
    "df_jejusc1_graph = df_jejusc1.groupby('REG_YYMM')['CNT'].sum()\n",
    "df_jejusc2_graph = df_jejusc2.groupby('REG_YYMM')['CNT'].sum()\n",
    "\n",
    "\n",
    "frame = plt.figure()\n",
    "gridsc1 = frame.add_subplot()\n",
    "gridsc1.plot(df_jejusc1_graph)\n",
    "gridsc1.plot(df_jejusc2_graph)\n",
    "\n",
    "# plt.rcParams['figure.figsize']=[20,10]\n",
    "# plt.xticks(fontsize = 20)\n",
    "\n",
    "gridsc1.set_xlabel('연월')\n",
    "gridsc1.set_ylabel('총이용고객수')\n",
    "gridsc1.set_title('월별 성별(남성,여성) 이용건수')\n",
    "gridsc1.legend(('남성','여성' ))\n",
    "#          bbox_to_anchor=(0.5, -0.05),\n",
    "#           fancybox=True, shadow=True, ncol=5)\n",
    "plt.show()"
   ]
  },
  {
   "cell_type": "code",
   "execution_count": null,
   "metadata": {},
   "outputs": [],
   "source": [
    "#월별 관련업종별 월매출 변화추이   ----1 요식업\n",
    "\n",
    "df_jejurest1 = df_jeju[df_jeju['STD_CLSS_NM']=='일식 음식점업']\n",
    "df_jejurest2= df_jeju[df_jeju['STD_CLSS_NM']=='중식 음식점업']\n",
    "df_jejurest3= df_jeju[df_jeju['STD_CLSS_NM']=='중식 음식점업']\n",
    "df_jejurest4= df_jeju[df_jeju['STD_CLSS_NM']=='서양식 음식점업']\n",
    "df_jejurest5= df_jeju[df_jeju['STD_CLSS_NM']=='기타 외국식 음식점업']\n",
    "\n",
    "\n",
    "\n",
    "df_jejurest1_graph = df_jejurest1.groupby('REG_YYMM')['AMT'].sum()\n",
    "df_jejurest2_graph = df_jejurest2.groupby('REG_YYMM')['AMT'].sum()\n",
    "df_jejurest3_graph = df_jejurest3.groupby('REG_YYMM')['AMT'].sum()\n",
    "df_jejurest4_graph = df_jejurest4.groupby('REG_YYMM')['AMT'].sum()\n",
    "df_jejurest5_graph = df_jejurest5.groupby('REG_YYMM')['AMT'].sum()\n",
    "\n",
    "\n",
    "# plt.rcParams['figure.figsize']=[30,20]\n",
    "framerest = plt.figure()\n",
    "gridrest = framerest.add_subplot()\n",
    "gridrest.plot(df_jejurest1_graph)\n",
    "gridrest.plot(df_jejurest2_graph)\n",
    "gridrest.plot(df_jejurest3_graph)\n",
    "gridrest.plot(df_jejurest4_graph)\n",
    "gridrest.plot(df_jejurest5_graph)\n",
    "\n",
    "gridsc1.set_xlabel('연월')\n",
    "gridsc1.set_ylabel('총매출')\n",
    "gridsc1.set_title('외국식 음식점업별 월매출 변화추이')\n",
    "gridsc1.legend(('일식 음식점업','중식 음식점업','서양식 음식점업','기타 외국식 음식점업'))\n",
    "#          bbox_to_anchor=(0.5, -0.05),\n",
    "#           fancybox=True, shadow=True, ncol=5)"
   ]
  },
  {
   "cell_type": "code",
   "execution_count": null,
   "metadata": {},
   "outputs": [],
   "source": [
    "#월별 관련업종별 월매출 변화추이   ----2 스포츠 문화 레저\n",
    "\n",
    "df_jejusports1 = df_jeju[df_jeju['STD_CLSS_NM']=='골프장 운영업']\n",
    "df_jejusports2= df_jeju[df_jeju['STD_CLSS_NM']=='기타 수상오락 서비스업']\n",
    "df_jejusports3= df_jeju[df_jeju['STD_CLSS_NM']=='전시 및 행사 대행업']\n",
    "df_jejusports4= df_jeju[df_jeju['STD_CLSS_NM']=='여행사업']\n",
    "df_jejusports5= df_jeju[df_jeju['STD_CLSS_NM']=='그외 기타 분류안된 오락관련 서비스업']\n",
    "df_jejusports6= df_jeju[df_jeju['STD_CLSS_NM']=='그외 기타 스포츠시설 운영업']\n",
    "\n",
    "\n",
    "\n",
    "\n",
    "df_jejusports1_graph = df_jejusports1.groupby('REG_YYMM')['AMT'].sum()\n",
    "df_jejusports2_graph = df_jejusports2.groupby('REG_YYMM')['AMT'].sum()\n",
    "df_jejusports3_graph = df_jejusports3.groupby('REG_YYMM')['AMT'].sum()\n",
    "df_jejusports4_graph = df_jejusports4.groupby('REG_YYMM')['AMT'].sum()\n",
    "df_jejusports5_graph = df_jejusports5.groupby('REG_YYMM')['AMT'].sum()\n",
    "df_jejusports6_graph = df_jejusports6.groupby('REG_YYMM')['AMT'].sum()\n",
    "\n",
    "\n",
    "\n",
    "# plt.rcParams['figure.figsize']=[30,20]\n",
    "framesports = plt.figure()\n",
    "gridsports = framesports.add_subplot()\n",
    "gridsports.plot(df_jejusports1_graph)\n",
    "gridsports.plot(df_jejusports2_graph)\n",
    "gridsports.plot(df_jejusports3_graph)\n",
    "gridsports.plot(df_jejusports4_graph)\n",
    "gridsports.plot(df_jejusports5_graph)\n",
    "gridsports.plot(df_jejusports6_graph)\n",
    "\n",
    "\n",
    "gridsc1.set_xlabel('연월')\n",
    "gridsc1.set_ylabel('총매출')\n",
    "gridsc1.set_title('스포츠/문화/레저업종 월매출 변화추이')\n",
    "gridsc1.legend(('골프장 운영업','기타 수상오락 서비스업','전시 및 행사 대행업',' 여행사업','그외 기타 분류안된 오락관련 서비스업','그외 기타 스포츠시설 운영업'))"
   ]
  },
  {
   "cell_type": "code",
   "execution_count": null,
   "metadata": {},
   "outputs": [],
   "source": [
    "#월별 관련업종별 월매출 변화추이   ----3 교통\n",
    "df_jejutransportation1 = df_jeju[df_jeju['STD_CLSS_NM']=='택시 운송업']\n",
    "df_jejutransportation2= df_jeju[df_jeju['STD_CLSS_NM']=='내항 여객 운송업']\n",
    "df_jejutransportation3= df_jeju[df_jeju['STD_CLSS_NM']=='정기 항공 운송업']\n",
    "\n",
    "df_jejutransportation1_graph = df_jejutransportation1.groupby('REG_YYMM')['AMT'].sum()\n",
    "df_jejutransportation2_graph = df_jejutransportation2.groupby('REG_YYMM')['AMT'].sum()\n",
    "df_jejutransportation3_graph = df_jejutransportation3.groupby('REG_YYMM')['AMT'].sum()\n",
    "\n",
    "\n",
    "frametransportation = plt.figure()\n",
    "gridtransportation = frametransportation.add_subplot()\n",
    "gridtransportation.plot(df_jejutransportation1_graph)\n",
    "gridtransportation.plot(df_jejutransportation2_graph)\n",
    "gridtransportation.plot(df_jejutransportation3_graph)\n",
    "\n",
    "gridtransportation.set_xlabel('연월')\n",
    "gridtransportation.set_ylabel('총매출')\n",
    "gridtransportation.set_title('교통관련 업종 월매출 변화추이')\n",
    "gridtransportation.legend(('택시 운송업', '내항 여객 운송업', '정기 항공 운송업'))"
   ]
  },
  {
   "cell_type": "code",
   "execution_count": null,
   "metadata": {},
   "outputs": [],
   "source": [
    "#교통업종 제주도거주여부에 따른 월매출 변화추이   ----3 교통\n",
    "#교통업종에 따른 데이터프레임 출력\n",
    "df_jejutransportation1 = df_jeju[df_jeju['STD_CLSS_NM']=='택시 운송업']\n",
    "df_jejutransportation2= df_jeju[df_jeju['STD_CLSS_NM']=='내항 여객 운송업']\n",
    "df_jejutransportation3= df_jeju[df_jeju['STD_CLSS_NM']=='정기 항공 운송업']\n",
    "#거주지역에 따라 또다시 분류하여 데이터프레임 출력\n",
    "df_jejutransportation1_jeju = df_jejutransportation1[df_jejutransportation1['HOM_SIDO_NM']=='제주']\n",
    "df_jejutransportation1_nojeju = df_jejutransportation1[df_jejutransportation1['HOM_SIDO_NM']!='제주']\n",
    "\n",
    "df_jejutransportation2_jeju= df_jejutransportation2[df_jejutransportation2['HOM_SIDO_NM']=='제주']\n",
    "df_jejutransportation2_nojeju= df_jejutransportation2[df_jejutransportation2['HOM_SIDO_NM']!='제주']\n",
    "df_jejutransportation3_jeju= df_jejutransportation3[df_jejutransportation3['HOM_SIDO_NM']=='제주']\n",
    "df_jejutransportation3_nojeju= df_jejutransportation3[df_jejutransportation3['HOM_SIDO_NM']!='제주']\n",
    "\n",
    "#제주도민이 사용한 교통업종끼리 묶기\n",
    "df_jejutransportation_jeju = pd.concat([df_jejutransportation1_jeju,df_jejutransportation2_jeju,df_jejutransportation3_jeju])\n",
    "#제주도민이 아닌 사람이 사용한 교통업종끼리 묶기\n",
    "df_jejutransportation_nojeju = pd.concat(\n",
    "    [df_jejutransportation1_nojeju,df_jejutransportation2_nojeju,df_jejutransportation3_nojeju])\n",
    "\n",
    "\n",
    "df_jejutransportation_jeju_per=df_jejutransportation_jeju['AMT']/df_jejutransportation_jeju['CNT']\n",
    "df_jejutransportation_nojeju_per=df_jejutransportation_nojeju['AMT']/df_jejutransportation_nojeju['CNT']\n",
    "\n",
    "df_jejutransportation_jeju_graph = df_jejutransportation_jeju.groupby('REG_YYMM')['AMT'].sum()\n",
    "df_jejutransportation_nojeju_graph = df_jejutransportation_nojeju.groupby('REG_YYMM')['AMT'].sum()\n",
    "\n",
    "\n",
    "framejejutransportation = plt.figure()\n",
    "gridjejutransportation = framejejutransportation.add_subplot()\n",
    "gridjejutransportation.plot(df_jejutransportation_jeju_graph)\n",
    "\n",
    "framejejutransportation2 = plt.figure()\n",
    "gridjejutransportation2 = framejejutransportation2.add_subplot()\n",
    "gridjejutransportation2.plot(df_jejutransportation_nojeju_graph)\n",
    "\n",
    "\n",
    "\n",
    "# plt.rcParams['figure.figsize']=[20,10]\n",
    "# plt.xticks(fontsize = 20)\n",
    "gridjejutransportation.set_xlabel('연월')\n",
    "gridjejutransportation.set_ylabel('월매출')\n",
    "gridjejutransportation.set_title('교통업종 제주도민의 월사용금액 변화추이')\n",
    "gridtransportation.legend('제주도민')\n",
    "\n",
    "gridjejutransportation2.set_xlabel('연월')\n",
    "gridjejutransportation2.set_ylabel('월매출')\n",
    "gridjejutransportation2.set_title('교통업종 제주도 이외지역 거주민의 월사용금액 변화추이')\n",
    "gridjejutransportation2.legend('이외지역거주민')"
   ]
  },
  {
   "cell_type": "code",
   "execution_count": null,
   "metadata": {},
   "outputs": [],
   "source": [
    "df_jejutransportation1_jeju\n",
    "df_jejutransportation1_jeju_hun=df_jejutransportation1_jeju.AMT.rank(pct=True)\n",
    "\n",
    "df_jejutransportation2_jeju\n",
    "df_jejutransportation2_jeju_hun=df_jejutransportation2_jeju.AMT.rank(pct=True)\n",
    "\n",
    "df_jejutransportation3_jeju\n",
    "df_jejutransportation3_jeju_hun=df_jejutransportation3_jeju.AMT.rank(pct=True)\n"
   ]
  },
  {
   "cell_type": "code",
   "execution_count": null,
   "metadata": {},
   "outputs": [],
   "source": [
    "df_jejutransportation1_jeju.head()"
   ]
  },
  {
   "cell_type": "code",
   "execution_count": null,
   "metadata": {},
   "outputs": [],
   "source": [
    "df_jejutransportation2_jeju.head()"
   ]
  },
  {
   "cell_type": "code",
   "execution_count": null,
   "metadata": {},
   "outputs": [],
   "source": [
    "df_jejutransportation3_jeju.head()"
   ]
  },
  {
   "cell_type": "code",
   "execution_count": null,
   "metadata": {},
   "outputs": [],
   "source": [
    "df_jejutransportation_jeju\n",
    "df_jejutransportation_jeju['AMThun'] = df_jejutransportation_jeju.AMT / df_jejutransportation_jeju.AMT.sum()\n",
    "# df_jejutransportation_jeju_hun=df_jejutransportation_jeju.AMT.rank(pct=True)\n",
    "# df_jejutransportation_jeju['AMThun']= df_jejutransportation_jeju_hun"
   ]
  },
  {
   "cell_type": "code",
   "execution_count": null,
   "metadata": {},
   "outputs": [],
   "source": [
    "df_jejutransportation_jeju"
   ]
  },
  {
   "cell_type": "code",
   "execution_count": null,
   "metadata": {},
   "outputs": [],
   "source": [
    "df_jejutransportation_nojeju\n",
    "df_jejutransportation_nojeju['AMThun'] = df_jejutransportation_nojeju.AMT / df_jejutransportation_nojeju.AMT.sum()"
   ]
  },
  {
   "cell_type": "code",
   "execution_count": null,
   "metadata": {},
   "outputs": [],
   "source": [
    "df_jejutransportation_nojeju"
   ]
  },
  {
   "cell_type": "code",
   "execution_count": null,
   "metadata": {},
   "outputs": [],
   "source": [
    "df_jejutransportation_jeju_hun_graph = df_jejutransportation_jeju.groupby('REG_YYMM')['AMThun'].sum()\n",
    "df_jejutransportation_nojeju_hun_graph = df_jejutransportation_nojeju.groupby('REG_YYMM')['AMThun'].sum()\n",
    "\n",
    "\n",
    "\n",
    "\n",
    "framejejutransportation_hun = plt.figure()\n",
    "gridjejutransportation_hun = framejejutransportation_hun.add_subplot()\n",
    "gridjejutransportation_hun.plot(df_jejutransportation_jeju_hun_graph)\n",
    "gridjejutransportation_hun.plot(df_jejutransportation_nojeju_hun_graph)\n",
    "\n",
    "gridjejutransportation.set_xlabel('연월')\n",
    "gridjejutransportation.set_ylabel('월매출')\n",
    "gridjejutransportation.set_title('교통업종 제주도민의 월사용금액 변화추이')\n",
    "gridtransportation.legend('제주도민','비제주도민')\n",
    "\n",
    "print(df_jejutransportation_jeju_per)"
   ]
  },
  {
   "cell_type": "code",
   "execution_count": null,
   "metadata": {},
   "outputs": [],
   "source": [
    "df_jejutransportation_jeju_per=df_jejutransportation_jeju['AMT']/df_jejutransportation_jeju['CNT']\n",
    "df_jejutransportation_nojeju_per=df_jejutransportation_nojeju['AMT']/df_jejutransportation_nojeju['CNT']\n",
    "#건당 지불금액 시리즈를 데이터프레임에 추가\n",
    "df_jejutransportation_jeju['AMTper']= df_jejutransportation_jeju_per\n",
    "df_jejutransportation_nojeju['AMTper']= df_jejutransportation_nojeju_per\n",
    "\n",
    "\n",
    "df_jejutransportation_jeju_AMTper_graph = df_jejutransportation_jeju.groupby('REG_YYMM')['AMTper'].sum()\n",
    "df_jejutransportation_nojeju_AMTper_graph = df_jejutransportation_nojeju.groupby('REG_YYMM')['AMTper'].sum()\n",
    "\n",
    "\n",
    "\n",
    "\n",
    "framejejutransportation_AMTper = plt.figure()\n",
    "gridjejutransportation_AMTper = framejejutransportation_AMTper.add_subplot()\n",
    "gridjejutransportation_AMTper.plot(df_jejutransportation_jeju_AMTper_graph)\n",
    "\n",
    "framejejutransportation_AMTper2 = plt.figure()\n",
    "\n",
    "gridjejutransportation_AMTper2 = framejejutransportation_AMTper2.add_subplot()\n",
    "gridjejutransportation_AMTper2.plot(df_jejutransportation_nojeju_AMTper_graph)\n",
    "\n",
    "# plt.rcParams['figure.figsize']=[20,10]\n",
    "# plt.xticks(fontsize = 20)\n",
    "gridjejutransportation_AMTper.set_xlabel('연월')\n",
    "gridjejutransportation_AMTper.set_ylabel('월 건당지불금액 총합')\n",
    "gridjejutransportation_AMTper.set_title('교통업종 제주도민의 건당지불금액 총합 변화추이')\n",
    "gridjejutransportation_AMTper.legend('제주도민')\n",
    "\n",
    "gridjejutransportation_AMTper2.set_xlabel('연월')\n",
    "gridjejutransportation_AMTper2.set_ylabel('월 건당지불금액 총합')\n",
    "gridjejutransportation_AMTper2.set_title('교통업종 제주이외지역 거주민들의 건당지불금액 총합 변화추이')\n",
    "gridjejutransportation_AMTper2.legend('이외지역거주민')"
   ]
  }
 ],
 "metadata": {
  "kernelspec": {
   "display_name": "Python 3",
   "language": "python",
   "name": "python3"
  },
  "language_info": {
   "codemirror_mode": {
    "name": "ipython",
    "version": 3
   },
   "file_extension": ".py",
   "mimetype": "text/x-python",
   "name": "python",
   "nbconvert_exporter": "python",
   "pygments_lexer": "ipython3",
   "version": "3.8.3"
  }
 },
 "nbformat": 4,
 "nbformat_minor": 4
}
